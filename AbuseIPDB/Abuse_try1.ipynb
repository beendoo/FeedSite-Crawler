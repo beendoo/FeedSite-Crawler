{
 "cells": [
  {
   "cell_type": "code",
   "execution_count": 2,
   "metadata": {},
   "outputs": [
    {
     "name": "stdout",
     "output_type": "stream",
     "text": [
      "{\n",
      "    \"errors\": [\n",
      "        {\n",
      "            \"detail\": \"Authentication failed. Your API key is either missing, incorrect, or revoked. Note: The APIv2 key differs from the APIv1 key.\",\n",
      "            \"status\": 401\n",
      "        }\n",
      "    ]\n",
      "}\n"
     ]
    }
   ],
   "source": [
    "import requests\n",
    "import json\n",
    "\n",
    "# Defining the api-endpoint\n",
    "url = 'https://api.abuseipdb.com/api/v2/check'\n",
    "\n",
    "querystring = {\n",
    "    'ipAddress': '118.25.6.39',\n",
    "    'maxAgeInDays': '90'\n",
    "}\n",
    "\n",
    "headers = {\n",
    "    'Accept': 'application/json',\n",
    "    'Key': 'YOUR_OWN_API_KEY'\n",
    "}\n",
    "\n",
    "response = requests.request(method='GET', url=url, headers=headers, params=querystring)\n",
    "\n",
    "# Formatted output\n",
    "decodedResponse = json.loads(response.text)\n",
    "print(json.dumps(decodedResponse, sort_keys=True, indent=4))"
   ]
  }
 ],
 "metadata": {
  "kernelspec": {
   "display_name": "Python 3",
   "language": "python",
   "name": "python3"
  },
  "language_info": {
   "codemirror_mode": {
    "name": "ipython",
    "version": 3
   },
   "file_extension": ".py",
   "mimetype": "text/x-python",
   "name": "python",
   "nbconvert_exporter": "python",
   "pygments_lexer": "ipython3",
   "version": "3.11.3"
  },
  "orig_nbformat": 4
 },
 "nbformat": 4,
 "nbformat_minor": 2
}

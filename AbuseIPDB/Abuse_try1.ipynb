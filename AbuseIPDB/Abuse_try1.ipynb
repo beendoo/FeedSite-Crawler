{
 "cells": [
  {
   "cell_type": "code",
   "execution_count": 23,
   "metadata": {},
   "outputs": [
    {
     "ename": "ModuleNotFoundError",
     "evalue": "No module named '__init__'",
     "output_type": "error",
     "traceback": [
      "\u001b[1;31m---------------------------------------------------------------------------\u001b[0m",
      "\u001b[1;31mModuleNotFoundError\u001b[0m                       Traceback (most recent call last)",
      "Cell \u001b[1;32mIn[23], line 4\u001b[0m\n\u001b[0;32m      2\u001b[0m \u001b[39mimport\u001b[39;00m \u001b[39mjson\u001b[39;00m\n\u001b[0;32m      3\u001b[0m \u001b[39mimport\u001b[39;00m \u001b[39msys\u001b[39;00m\u001b[39m,\u001b[39m \u001b[39mos\u001b[39;00m\n\u001b[1;32m----> 4\u001b[0m \u001b[39mfrom\u001b[39;00m \u001b[39m__init__\u001b[39;00m \u001b[39mimport\u001b[39;00m AbuseAPI\n\u001b[0;32m      7\u001b[0m \u001b[39m# Defining the api-endpoint\u001b[39;00m\n\u001b[0;32m      8\u001b[0m url \u001b[39m=\u001b[39m \u001b[39m'\u001b[39m\u001b[39mhttps://api.abuseipdb.com/api/v2/check\u001b[39m\u001b[39m'\u001b[39m\n",
      "\u001b[1;31mModuleNotFoundError\u001b[0m: No module named '__init__'"
     ]
    }
   ],
   "source": [
    "import requests\n",
    "import json\n",
    "import sys, os\n",
    "from __init__ import AbuseAPI\n",
    "\n",
    "\n",
    "# Defining the api-endpoint\n",
    "url = 'https://api.abuseipdb.com/api/v2/check'\n",
    "\n",
    "querystring = {\n",
    "    'ipAddress': '118.25.6.39',\n",
    "    'maxAgeInDays': '90'\n",
    "}\n",
    "\n",
    "headers = {\n",
    "    'Accept': 'application/json',\n",
    "    'Key': AbuseAPI\n",
    "}\n",
    "\n",
    "response = requests.request(method='GET', url=url, headers=headers, params=querystring)\n",
    "\n",
    "# Formatted output\n",
    "decodedResponse = json.loads(response.text)\n",
    "print(json.dumps(decodedResponse, sort_keys=True, indent=4))"
   ]
  }
 ],
 "metadata": {
  "kernelspec": {
   "display_name": "Python 3",
   "language": "python",
   "name": "python3"
  },
  "language_info": {
   "codemirror_mode": {
    "name": "ipython",
    "version": 3
   },
   "file_extension": ".py",
   "mimetype": "text/x-python",
   "name": "python",
   "nbconvert_exporter": "python",
   "pygments_lexer": "ipython3",
   "version": "3.11.3"
  },
  "orig_nbformat": 4
 },
 "nbformat": 4,
 "nbformat_minor": 2
}

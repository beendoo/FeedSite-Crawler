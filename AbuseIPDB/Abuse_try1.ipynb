{
 "cells": [
  {
   "cell_type": "code",
   "execution_count": 16,
   "metadata": {},
   "outputs": [
    {
     "ename": "ImportError",
     "evalue": "attempted relative import with no known parent package",
     "output_type": "error",
     "traceback": [
      "\u001b[1;31m---------------------------------------------------------------------------\u001b[0m",
      "\u001b[1;31mImportError\u001b[0m                               Traceback (most recent call last)",
      "Cell \u001b[1;32mIn[16], line 6\u001b[0m\n\u001b[0;32m      4\u001b[0m p \u001b[39m=\u001b[39m os\u001b[39m.\u001b[39mpath\u001b[39m.\u001b[39mabspath(\u001b[39m'\u001b[39m\u001b[39m.\u001b[39m\u001b[39m'\u001b[39m)\n\u001b[0;32m      5\u001b[0m sys\u001b[39m.\u001b[39mpath\u001b[39m.\u001b[39minsert(\u001b[39m1\u001b[39m, p)\n\u001b[1;32m----> 6\u001b[0m \u001b[39mfrom\u001b[39;00m \u001b[39m.\u001b[39;00m\u001b[39m.\u001b[39;00m\u001b[39mvariable\u001b[39;00m \u001b[39mimport\u001b[39;00m AbuseAPI\n\u001b[0;32m      9\u001b[0m \u001b[39m# Defining the api-endpoint\u001b[39;00m\n\u001b[0;32m     10\u001b[0m url \u001b[39m=\u001b[39m \u001b[39m'\u001b[39m\u001b[39mhttps://api.abuseipdb.com/api/v2/check\u001b[39m\u001b[39m'\u001b[39m\n",
      "\u001b[1;31mImportError\u001b[0m: attempted relative import with no known parent package"
     ]
    }
   ],
   "source": [
    "import requests\n",
    "import json\n",
    "import sys, os\n",
    "p = os.path.abspath('.')\n",
    "sys.path.insert(1, p)\n",
    "from ..variable import AbuseAPI\n",
    "\n",
    "\n",
    "# Defining the api-endpoint\n",
    "url = 'https://api.abuseipdb.com/api/v2/check'\n",
    "\n",
    "querystring = {\n",
    "    'ipAddress': '118.25.6.39',\n",
    "    'maxAgeInDays': '90'\n",
    "}\n",
    "\n",
    "headers = {\n",
    "    'Accept': 'application/json',\n",
    "    'Key': AbuseAPI\n",
    "}\n",
    "\n",
    "response = requests.request(method='GET', url=url, headers=headers, params=querystring)\n",
    "\n",
    "# Formatted output\n",
    "decodedResponse = json.loads(response.text)\n",
    "print(json.dumps(decodedResponse, sort_keys=True, indent=4))"
   ]
  }
 ],
 "metadata": {
  "kernelspec": {
   "display_name": "Python 3",
   "language": "python",
   "name": "python3"
  },
  "language_info": {
   "codemirror_mode": {
    "name": "ipython",
    "version": 3
   },
   "file_extension": ".py",
   "mimetype": "text/x-python",
   "name": "python",
   "nbconvert_exporter": "python",
   "pygments_lexer": "ipython3",
   "version": "3.11.3"
  },
  "orig_nbformat": 4
 },
 "nbformat": 4,
 "nbformat_minor": 2
}

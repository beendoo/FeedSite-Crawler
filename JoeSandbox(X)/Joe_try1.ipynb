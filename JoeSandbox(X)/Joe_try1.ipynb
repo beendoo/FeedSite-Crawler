{
 "cells": [
  {
   "cell_type": "code",
   "execution_count": 1,
   "metadata": {},
   "outputs": [
    {
     "name": "stdout",
     "output_type": "stream",
     "text": [
      "Requirement already satisfied: jbxapi in c:\\users\\songb\\appdata\\local\\programs\\python\\python311\\lib\\site-packages (3.21.0)\n",
      "Requirement already satisfied: requests<3,>=2.18.4 in c:\\users\\songb\\appdata\\local\\programs\\python\\python311\\lib\\site-packages (from jbxapi) (2.28.2)\n",
      "Requirement already satisfied: pyzipper>=0.3.1 in c:\\users\\songb\\appdata\\local\\programs\\python\\python311\\lib\\site-packages (from jbxapi) (0.3.6)\n",
      "Requirement already satisfied: pycryptodomex in c:\\users\\songb\\appdata\\local\\programs\\python\\python311\\lib\\site-packages (from pyzipper>=0.3.1->jbxapi) (3.18.0)\n",
      "Requirement already satisfied: charset-normalizer<4,>=2 in c:\\users\\songb\\appdata\\local\\programs\\python\\python311\\lib\\site-packages (from requests<3,>=2.18.4->jbxapi) (3.1.0)\n",
      "Requirement already satisfied: idna<4,>=2.5 in c:\\users\\songb\\appdata\\local\\programs\\python\\python311\\lib\\site-packages (from requests<3,>=2.18.4->jbxapi) (3.4)\n",
      "Requirement already satisfied: urllib3<1.27,>=1.21.1 in c:\\users\\songb\\appdata\\local\\programs\\python\\python311\\lib\\site-packages (from requests<3,>=2.18.4->jbxapi) (1.26.15)\n",
      "Requirement already satisfied: certifi>=2017.4.17 in c:\\users\\songb\\appdata\\local\\programs\\python\\python311\\lib\\site-packages (from requests<3,>=2.18.4->jbxapi) (2022.12.7)\n",
      "Note: you may need to restart the kernel to use updated packages.\n"
     ]
    },
    {
     "name": "stderr",
     "output_type": "stream",
     "text": [
      "\n",
      "[notice] A new release of pip available: 22.3.1 -> 23.2.1\n",
      "[notice] To update, run: python.exe -m pip install --upgrade pip\n"
     ]
    }
   ],
   "source": [
    "pip install jbxapi"
   ]
  },
  {
   "cell_type": "code",
   "execution_count": 2,
   "metadata": {},
   "outputs": [
    {
     "name": "stdout",
     "output_type": "stream",
     "text": [
      "Requirement already satisfied: requests in c:\\users\\songb\\appdata\\local\\programs\\python\\python311\\lib\\site-packages (2.28.2)\n",
      "Requirement already satisfied: charset-normalizer<4,>=2 in c:\\users\\songb\\appdata\\local\\programs\\python\\python311\\lib\\site-packages (from requests) (3.1.0)\n",
      "Requirement already satisfied: idna<4,>=2.5 in c:\\users\\songb\\appdata\\local\\programs\\python\\python311\\lib\\site-packages (from requests) (3.4)\n",
      "Requirement already satisfied: urllib3<1.27,>=1.21.1 in c:\\users\\songb\\appdata\\local\\programs\\python\\python311\\lib\\site-packages (from requests) (1.26.15)\n",
      "Requirement already satisfied: certifi>=2017.4.17 in c:\\users\\songb\\appdata\\local\\programs\\python\\python311\\lib\\site-packages (from requests) (2022.12.7)\n",
      "Note: you may need to restart the kernel to use updated packages.\n"
     ]
    },
    {
     "name": "stderr",
     "output_type": "stream",
     "text": [
      "\n",
      "[notice] A new release of pip available: 22.3.1 -> 23.2.1\n",
      "[notice] To update, run: python.exe -m pip install --upgrade pip\n"
     ]
    }
   ],
   "source": [
    "pip install requests"
   ]
  },
  {
   "cell_type": "code",
   "execution_count": null,
   "metadata": {},
   "outputs": [],
   "source": []
  }
 ],
 "metadata": {
  "kernelspec": {
   "display_name": "Python 3",
   "language": "python",
   "name": "python3"
  },
  "language_info": {
   "codemirror_mode": {
    "name": "ipython",
    "version": 3
   },
   "file_extension": ".py",
   "mimetype": "text/x-python",
   "name": "python",
   "nbconvert_exporter": "python",
   "pygments_lexer": "ipython3",
   "version": "3.11.3"
  },
  "orig_nbformat": 4
 },
 "nbformat": 4,
 "nbformat_minor": 2
}

{
 "cells": [
  {
   "cell_type": "code",
   "execution_count": 3,
   "metadata": {},
   "outputs": [
    {
     "name": "stdout",
     "output_type": "stream",
     "text": [
      "Requirement already satisfied: selenium in c:\\users\\songb\\appdata\\local\\programs\\python\\python311\\lib\\site-packages (4.9.0)\n",
      "Requirement already satisfied: urllib3[socks]~=1.26 in c:\\users\\songb\\appdata\\local\\programs\\python\\python311\\lib\\site-packages (from selenium) (1.26.15)\n",
      "Requirement already satisfied: trio~=0.17 in c:\\users\\songb\\appdata\\local\\programs\\python\\python311\\lib\\site-packages (from selenium) (0.22.0)\n",
      "Requirement already satisfied: trio-websocket~=0.9 in c:\\users\\songb\\appdata\\local\\programs\\python\\python311\\lib\\site-packages (from selenium) (0.10.2)\n",
      "Requirement already satisfied: certifi>=2021.10.8 in c:\\users\\songb\\appdata\\local\\programs\\python\\python311\\lib\\site-packages (from selenium) (2022.12.7)\n",
      "Requirement already satisfied: attrs>=19.2.0 in c:\\users\\songb\\appdata\\local\\programs\\python\\python311\\lib\\site-packages (from trio~=0.17->selenium) (23.1.0)\n",
      "Requirement already satisfied: sortedcontainers in c:\\users\\songb\\appdata\\local\\programs\\python\\python311\\lib\\site-packages (from trio~=0.17->selenium) (2.4.0)\n",
      "Requirement already satisfied: async-generator>=1.9 in c:\\users\\songb\\appdata\\local\\programs\\python\\python311\\lib\\site-packages (from trio~=0.17->selenium) (1.10)\n",
      "Requirement already satisfied: idna in c:\\users\\songb\\appdata\\local\\programs\\python\\python311\\lib\\site-packages (from trio~=0.17->selenium) (3.4)\n",
      "Requirement already satisfied: outcome in c:\\users\\songb\\appdata\\local\\programs\\python\\python311\\lib\\site-packages (from trio~=0.17->selenium) (1.2.0)\n",
      "Requirement already satisfied: sniffio in c:\\users\\songb\\appdata\\local\\programs\\python\\python311\\lib\\site-packages (from trio~=0.17->selenium) (1.3.0)\n",
      "Requirement already satisfied: cffi>=1.14 in c:\\users\\songb\\appdata\\local\\programs\\python\\python311\\lib\\site-packages (from trio~=0.17->selenium) (1.15.1)\n",
      "Requirement already satisfied: exceptiongroup in c:\\users\\songb\\appdata\\local\\programs\\python\\python311\\lib\\site-packages (from trio-websocket~=0.9->selenium) (1.1.1)\n",
      "Requirement already satisfied: wsproto>=0.14 in c:\\users\\songb\\appdata\\local\\programs\\python\\python311\\lib\\site-packages (from trio-websocket~=0.9->selenium) (1.2.0)\n",
      "Requirement already satisfied: PySocks!=1.5.7,<2.0,>=1.5.6 in c:\\users\\songb\\appdata\\local\\programs\\python\\python311\\lib\\site-packages (from urllib3[socks]~=1.26->selenium) (1.7.1)\n",
      "Requirement already satisfied: pycparser in c:\\users\\songb\\appdata\\local\\programs\\python\\python311\\lib\\site-packages (from cffi>=1.14->trio~=0.17->selenium) (2.21)\n",
      "Requirement already satisfied: h11<1,>=0.9.0 in c:\\users\\songb\\appdata\\local\\programs\\python\\python311\\lib\\site-packages (from wsproto>=0.14->trio-websocket~=0.9->selenium) (0.14.0)\n",
      "Note: you may need to restart the kernel to use updated packages.\n"
     ]
    },
    {
     "name": "stderr",
     "output_type": "stream",
     "text": [
      "\n",
      "[notice] A new release of pip available: 22.3.1 -> 23.2.1\n",
      "[notice] To update, run: python.exe -m pip install --upgrade pip\n"
     ]
    }
   ],
   "source": [
    "pip install selenium"
   ]
  },
  {
   "cell_type": "code",
   "execution_count": 4,
   "metadata": {},
   "outputs": [
    {
     "name": "stdout",
     "output_type": "stream",
     "text": [
      "Collecting bs4\n",
      "  Downloading bs4-0.0.1.tar.gz (1.1 kB)\n",
      "  Preparing metadata (setup.py): started\n",
      "  Preparing metadata (setup.py): finished with status 'done'\n",
      "Requirement already satisfied: beautifulsoup4 in c:\\users\\songb\\appdata\\local\\programs\\python\\python311\\lib\\site-packages (from bs4) (4.12.2)\n",
      "Requirement already satisfied: soupsieve>1.2 in c:\\users\\songb\\appdata\\local\\programs\\python\\python311\\lib\\site-packages (from beautifulsoup4->bs4) (2.4.1)\n",
      "Installing collected packages: bs4\n",
      "  Running setup.py install for bs4: started\n",
      "  Running setup.py install for bs4: finished with status 'done'\n",
      "Successfully installed bs4-0.0.1\n",
      "Note: you may need to restart the kernel to use updated packages.\n"
     ]
    },
    {
     "name": "stderr",
     "output_type": "stream",
     "text": [
      "  DEPRECATION: bs4 is being installed using the legacy 'setup.py install' method, because it does not have a 'pyproject.toml' and the 'wheel' package is not installed. pip 23.1 will enforce this behaviour change. A possible replacement is to enable the '--use-pep517' option. Discussion can be found at https://github.com/pypa/pip/issues/8559\n",
      "\n",
      "[notice] A new release of pip available: 22.3.1 -> 23.2.1\n",
      "[notice] To update, run: python.exe -m pip install --upgrade pip\n"
     ]
    }
   ],
   "source": [
    "pip install bs4"
   ]
  },
  {
   "cell_type": "code",
   "execution_count": 21,
   "metadata": {},
   "outputs": [
    {
     "ename": "AttributeError",
     "evalue": "'NoneType' object has no attribute 'find_elements'",
     "output_type": "error",
     "traceback": [
      "\u001b[1;31m---------------------------------------------------------------------------\u001b[0m",
      "\u001b[1;31mAttributeError\u001b[0m                            Traceback (most recent call last)",
      "Cell \u001b[1;32mIn[21], line 29\u001b[0m\n\u001b[0;32m     25\u001b[0m \u001b[39m# ip 주소 입력\u001b[39;00m\n\u001b[0;32m     26\u001b[0m \u001b[39m# def inputIP():\u001b[39;00m\n\u001b[0;32m     27\u001b[0m \u001b[39m#     global ChromeDriverManager\u001b[39;00m\n\u001b[0;32m     28\u001b[0m iplist \u001b[39m=\u001b[39m \u001b[39m'\u001b[39m\u001b[39m186.210.113.177\u001b[39m\u001b[39m'\u001b[39m\n\u001b[1;32m---> 29\u001b[0m driver\u001b[39m.\u001b[39;49mfind_elements(By\u001b[39m.\u001b[39mXPATH, \u001b[39m'\u001b[39m\u001b[39m//*[@id=\u001b[39m\u001b[39m\"\u001b[39m\u001b[39mip\u001b[39m\u001b[39m\"\u001b[39m\u001b[39m]\u001b[39m\u001b[39m'\u001b[39m)\u001b[39m.\u001b[39msend_keys(iplist)\n",
      "\u001b[1;31mAttributeError\u001b[0m: 'NoneType' object has no attribute 'find_elements'"
     ]
    }
   ],
   "source": [
    "from selenium import webdriver\n",
    "from selenium.webdriver.chrome.service import Service\n",
    "from selenium.webdriver.chrome.options import Options\n",
    "from selenium.webdriver.common.keys import Keys\n",
    "from selenium.webdriver.common.by import By\n",
    "import time\n",
    "\n",
    "driver = None\n",
    "\n",
    "# 크롬 드라이버 자동 업데이트\n",
    "from webdriver_manager.chrome import ChromeDriverManager\n",
    "\n",
    "#브라우저 꺼짐 방지 \n",
    "chrome_options = Options()\n",
    "chrome_options.add_experimental_option(\"detach\", True)\n",
    "\n",
    "# 불필요한 에러 메시지 없애기\n",
    "chrome_options.add_experimental_option(\"excludeSwitches\", [\"enable-logging\"])\n",
    "browser = webdriver.Chrome(options=chrome_options)\n",
    "\n",
    "# 웹페이지 해당 주소 이동\n",
    "url = 'https://ipremoval.sms.symantec.com/'\n",
    "browser.get(url)\n",
    "\n",
    "# ip 주소 입력\n",
    "def inputIP():\n",
    "    global driver\n",
    "    iplist = '186.210.113.177'\n",
    "    driver.find_elements(By.XPATH, '//*[@id=\"ip\"]').send_keys(iplist)\n"
   ]
  },
  {
   "cell_type": "code",
   "execution_count": 23,
   "metadata": {},
   "outputs": [
    {
     "name": "stdout",
     "output_type": "stream",
     "text": [
      "Collecting pyperclip\n",
      "  Downloading pyperclip-1.8.2.tar.gz (20 kB)\n",
      "  Preparing metadata (setup.py): started\n",
      "  Preparing metadata (setup.py): finished with status 'done'\n",
      "Installing collected packages: pyperclip\n",
      "  Running setup.py install for pyperclip: started\n",
      "  Running setup.py install for pyperclip: finished with status 'done'\n",
      "Successfully installed pyperclip-1.8.2\n",
      "Note: you may need to restart the kernel to use updated packages.\n"
     ]
    },
    {
     "name": "stderr",
     "output_type": "stream",
     "text": [
      "  DEPRECATION: pyperclip is being installed using the legacy 'setup.py install' method, because it does not have a 'pyproject.toml' and the 'wheel' package is not installed. pip 23.1 will enforce this behaviour change. A possible replacement is to enable the '--use-pep517' option. Discussion can be found at https://github.com/pypa/pip/issues/8559\n",
      "\n",
      "[notice] A new release of pip available: 22.3.1 -> 23.2.1\n",
      "[notice] To update, run: python.exe -m pip install --upgrade pip\n"
     ]
    }
   ],
   "source": [
    "pip install pyperclip"
   ]
  },
  {
   "cell_type": "code",
   "execution_count": 2,
   "metadata": {},
   "outputs": [
    {
     "name": "stderr",
     "output_type": "stream",
     "text": [
      "C:\\Users\\songb\\AppData\\Local\\Temp\\ipykernel_8916\\1699978679.py:11: DeprecationWarning: executable_path has been deprecated, please pass in a Service object\n",
      "  driver = webdriver.Chrome('chromedriver.exe')\n"
     ]
    },
    {
     "name": "stdout",
     "output_type": "stream",
     "text": [
      "no such element\n"
     ]
    }
   ],
   "source": [
    "from selenium import webdriver\n",
    "from webdriver_manager.chrome import ChromeDriverManager\n",
    "from selenium.webdriver.chrome.options import Options\n",
    "from selenium.webdriver.common.by import By\n",
    "from selenium.webdriver.common.keys import Keys\n",
    "import pandas as pd\n",
    "import time\n",
    "import pyperclip\n",
    "from selenium.webdriver.chrome.options import Options\n",
    "\n",
    "driver = webdriver.Chrome('chromedriver.exe')\n",
    "driver.get('https://nid.naver.com/nidlogin.login?mode=form&url=https%3A%2F%2Fwww.naver.com')\n",
    "\n",
    "while(True):\n",
    "\n",
    "    try: \n",
    "        driver.find_element(By.CSS_SELECTOR,'#id') #예외처리에 필요 이 구문이 없으면 아이디가 클립보드에 계속 복사됨\n",
    "        time.sleep(3)  \n",
    "        nid='id'           #아이디 입력부분\n",
    "        pyperclip.copy(nid)\n",
    "        driver.find_element(By.CSS_SELECTOR,'#id').send_keys(Keys.CONTROL+'v')\n",
    "        time.sleep(1)\n",
    "        npw='password'         #비밀번호 입력부분\n",
    "        pyperclip.copy(npw)\n",
    "        secure='blank'\n",
    "        driver.find_element(By.CSS_SELECTOR,'#pw').send_keys(Keys.CONTROL + 'v')\n",
    "        pyperclip.copy(secure)  #비밀번호 보안을위해 클립보드에 blank저장\n",
    "        driver.find_element(By.XPATH,'//*[@id=\"log.login\"]').click()\n",
    "        driver.get('http://cafe.naver.com')   #네이버 카페로 이동\n",
    "    \n",
    "    except: \n",
    "        print(\"no such element\")          #예외처리\n",
    "        break"
   ]
  },
  {
   "cell_type": "code",
   "execution_count": 24,
   "metadata": {},
   "outputs": [
    {
     "name": "stderr",
     "output_type": "stream",
     "text": [
      "C:\\Users\\songb\\AppData\\Local\\Temp\\ipykernel_17604\\3768500374.py:13: DeprecationWarning: executable_path has been deprecated, please pass in a Service object\n",
      "  driver = webdriver.Chrome('chromedriver.exe')\n"
     ]
    },
    {
     "name": "stdout",
     "output_type": "stream",
     "text": [
      "no such element\n"
     ]
    }
   ],
   "source": [
    "# ip 검색으로 변형 시도 1\n",
    "\n",
    "from selenium import webdriver\n",
    "from webdriver_manager.chrome import ChromeDriverManager\n",
    "from selenium.webdriver.chrome.options import Options\n",
    "from selenium.webdriver.common.by import By\n",
    "from selenium.webdriver.common.keys import Keys\n",
    "import pandas as pd\n",
    "import time\n",
    "import pyperclip\n",
    "from selenium.webdriver.chrome.options import Options\n",
    "\n",
    "driver = webdriver.Chrome('chromedriver.exe')\n",
    "driver.get('https://ipremoval.sms.symantec.com/')\n",
    "\n",
    "while(True):\n",
    "\n",
    "    try: \n",
    "        driver.find_element(By.CSS_SELECTOR,'#ip') #예외처리에 필요 이 구문이 없으면 아이디가 클립보드에 계속 복사됨\n",
    "        time.sleep(3)  \n",
    "        iplist='117.202.78.38'           #아이디 입력부분\n",
    "        pyperclip.copy(iplist)\n",
    "        driver.find_element(By.CSS_SELECTOR,'#ip').send_keys(Keys.CONTROL+'v')\n",
    "        time.sleep(3)\n",
    "\n",
    "        # driver.find_element(By.XPATH,'//*[@id=\"recaptcha-anchor\"]/div[1]').click()\n",
    "        # print(\"ok_1\")\n",
    "        \n",
    "        # time.sleep(3)\n",
    "        \n",
    "        # driver.find_element(By.XPATH,'//*[@id=\"QueryBox\"]/form/input[3]').click()\n",
    "        # print(\"ok_2\")\n",
    "\n",
    "        self.driver.find_element(By.CSS_SELECTOR, \".recaptcha-checkbox-border\").click()\n",
    "        time.sleep(2.8)\n",
    "        self.driver.switch_to.default_content()\n",
    "        self.driver.find_element(By.CSS_SELECTOR, \"input:nth-child(10)\").click()\n",
    "        time.sleep(3)\n",
    "        FIRST = self.driver.find_element(By.XPATH, '//*[@id=\"ContentBox\"]/p')\n",
    "        SECOND = self.driver.find_element(By.XPATH, '//*[@id=\"ContentBox\"]/ul')\n",
    "        print(FIRST)\n",
    "        print(SECOND)\n",
    "\n",
    "\n",
    "    except: \n",
    "        print(\"no such element\")          #예외처리\n",
    "        break"
   ]
  },
  {
   "cell_type": "code",
   "execution_count": 23,
   "metadata": {},
   "outputs": [],
   "source": [
    "# Generated by Selenium IDE\n",
    "import pytest\n",
    "import time\n",
    "import json\n",
    "from selenium import webdriver\n",
    "from selenium.webdriver.common.by import By\n",
    "from selenium.webdriver.common.action_chains import ActionChains\n",
    "from selenium.webdriver.support import expected_conditions\n",
    "from selenium.webdriver.support.wait import WebDriverWait\n",
    "from selenium.webdriver.common.keys import Keys\n",
    "from selenium.webdriver.common.desired_capabilities import DesiredCapabilities\n",
    "\n",
    "class TestTry1():\n",
    "  def setup_method(self, method):\n",
    "    self.driver = webdriver.Chrome()\n",
    "    self.vars = {}\n",
    "  \n",
    "  def teardown_method(self, method):\n",
    "    self.driver.quit()\n",
    "  \n",
    "  def test_try1(self):\n",
    "\n",
    "    iplist='178.175.119.165'\n",
    "\n",
    "    self.driver.get(\"https://ipremoval.sms.symantec.com/\")\n",
    "    self.driver.set_window_size(1651, 1032)\n",
    "    self.driver.find_element(By.CSS_SELECTOR,'#ip').send_keys(self.vars[iplist])\n",
    "    self.driver.switch_to.frame(0)\n",
    "    self.driver.find_element(By.CSS_SELECTOR, \".recaptcha-checkbox-border\").click()\n",
    "    self.driver.switch_to.default_content()\n",
    "    self.driver.find_element(By.CSS_SELECTOR, \"input:nth-child(10)\").click()\n",
    "    FIRST = self.driver.find_element(By.XPATH, '//*[@id=\"ContentBox\"]/p')\n",
    "    SECOND = self.driver.find_element(By.XPATH, '//*[@id=\"ContentBox\"]/ul')\n",
    "    print(FIRST)\n",
    "    print(SECOND)"
   ]
  }
 ],
 "metadata": {
  "kernelspec": {
   "display_name": "Python 3",
   "language": "python",
   "name": "python3"
  },
  "language_info": {
   "codemirror_mode": {
    "name": "ipython",
    "version": 3
   },
   "file_extension": ".py",
   "mimetype": "text/x-python",
   "name": "python",
   "nbconvert_exporter": "python",
   "pygments_lexer": "ipython3",
   "version": "3.11.3"
  },
  "orig_nbformat": 4
 },
 "nbformat": 4,
 "nbformat_minor": 2
}
